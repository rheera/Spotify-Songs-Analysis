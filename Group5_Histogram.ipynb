{
  "nbformat": 4,
  "nbformat_minor": 0,
  "metadata": {
    "colab": {
      "provenance": [],
      "include_colab_link": true
    },
    "kernelspec": {
      "name": "python3",
      "display_name": "Python 3"
    },
    "language_info": {
      "name": "python"
    }
  },
  "cells": [
    {
      "cell_type": "markdown",
      "metadata": {
        "id": "view-in-github",
        "colab_type": "text"
      },
      "source": [
        "<a href=\"https://colab.research.google.com/github/rheera/Spotify-Songs-Analysis/blob/main/Group5_Histogram.ipynb\" target=\"_parent\"><img src=\"https://colab.research.google.com/assets/colab-badge.svg\" alt=\"Open In Colab\"/></a>"
      ]
    },
    {
      "cell_type": "code",
      "source": [
        "import pandas as pd\n",
        "import matplotlib.pyplot as plt\n",
        "import seaborn as sns\n"
      ],
      "metadata": {
        "id": "u8-9KeBrMrn8"
      },
      "execution_count": null,
      "outputs": []
    },
    {
      "cell_type": "code",
      "execution_count": null,
      "metadata": {
        "id": "yMRT4esKHLtr"
      },
      "outputs": [],
      "source": [
        "# Spotify Dataset link: https://www.kaggle.com/datasets/julianoorlandi/spotify-top-songs-and-audio-features\n",
        "path=\"/content/spotify_top_songs_audio_features.csv\""
      ]
    },
    {
      "cell_type": "code",
      "source": [
        "df=pd.read_csv(path)"
      ],
      "metadata": {
        "id": "BigJnIpLMmfs"
      },
      "execution_count": null,
      "outputs": []
    },
    {
      "cell_type": "code",
      "source": [
        "df.head()"
      ],
      "metadata": {
        "id": "nBMWtuunMqob",
        "colab": {
          "base_uri": "https://localhost:8080/",
          "height": 347
        },
        "outputId": "8e2089bc-ca53-4273-abfe-defd963dc091"
      },
      "execution_count": null,
      "outputs": [
        {
          "output_type": "execute_result",
          "data": {
            "text/plain": [
              "                       id                artist_names  \\\n",
              "0  000xQL6tZNLJzIrtIgxqSl         ZAYN, PARTYNEXTDOOR   \n",
              "1  003eoIwxETJujVWmNFMoZy                Alessia Cara   \n",
              "2  003vvx7Niy0yvhvHt4a68B                 The Killers   \n",
              "3  00B7TZ0Xawar6NZ00JFomN  Cardi B, Chance the Rapper   \n",
              "4  00Blm7zeNqgYLPtW6zg8cj     Post Malone, The Weeknd   \n",
              "\n",
              "                             track_name              source    key   mode  \\\n",
              "0  Still Got Time (feat. PARTYNEXTDOOR)   RCA Records Label      G  Major   \n",
              "1                         Growing Pains  Def Jam Recordings  C#/Db  Minor   \n",
              "2                        Mr. Brightside      Island Records  C#/Db  Major   \n",
              "3   Best Life (feat. Chance The Rapper)        Atlantic/KSR      A  Major   \n",
              "4       One Right Now (with The Weeknd)    Republic Records  C#/Db  Major   \n",
              "\n",
              "  time_signature  danceability  energy  speechiness  acousticness  \\\n",
              "0        4 beats         0.748   0.627       0.0639       0.13100   \n",
              "1        4 beats         0.353   0.755       0.7330       0.08220   \n",
              "2        4 beats         0.352   0.911       0.0747       0.00121   \n",
              "3        4 beats         0.620   0.625       0.5530       0.28700   \n",
              "4        4 beats         0.687   0.781       0.0530       0.03610   \n",
              "\n",
              "   instrumentalness  liveness  valence  loudness    tempo  duration_ms  \\\n",
              "0               0.0    0.0852    0.524    -6.029  120.963       188491   \n",
              "1               0.0    0.3900    0.437    -6.276  191.153       193680   \n",
              "2               0.0    0.0995    0.236    -5.230  148.033       222973   \n",
              "3               0.0    0.3140    0.665    -7.438  167.911       284856   \n",
              "4               0.0    0.0755    0.688    -4.806   97.014       193507   \n",
              "\n",
              "   weeks_on_chart    streams  \n",
              "0              17  107527761  \n",
              "1               2    9944865  \n",
              "2             125  512388123  \n",
              "3               2   11985346  \n",
              "4              30  301860377  "
            ],
            "text/html": [
              "\n",
              "  <div id=\"df-ff3c4f6e-b3fa-4e17-a99c-7ba3bf62fb62\" class=\"colab-df-container\">\n",
              "    <div>\n",
              "<style scoped>\n",
              "    .dataframe tbody tr th:only-of-type {\n",
              "        vertical-align: middle;\n",
              "    }\n",
              "\n",
              "    .dataframe tbody tr th {\n",
              "        vertical-align: top;\n",
              "    }\n",
              "\n",
              "    .dataframe thead th {\n",
              "        text-align: right;\n",
              "    }\n",
              "</style>\n",
              "<table border=\"1\" class=\"dataframe\">\n",
              "  <thead>\n",
              "    <tr style=\"text-align: right;\">\n",
              "      <th></th>\n",
              "      <th>id</th>\n",
              "      <th>artist_names</th>\n",
              "      <th>track_name</th>\n",
              "      <th>source</th>\n",
              "      <th>key</th>\n",
              "      <th>mode</th>\n",
              "      <th>time_signature</th>\n",
              "      <th>danceability</th>\n",
              "      <th>energy</th>\n",
              "      <th>speechiness</th>\n",
              "      <th>acousticness</th>\n",
              "      <th>instrumentalness</th>\n",
              "      <th>liveness</th>\n",
              "      <th>valence</th>\n",
              "      <th>loudness</th>\n",
              "      <th>tempo</th>\n",
              "      <th>duration_ms</th>\n",
              "      <th>weeks_on_chart</th>\n",
              "      <th>streams</th>\n",
              "    </tr>\n",
              "  </thead>\n",
              "  <tbody>\n",
              "    <tr>\n",
              "      <th>0</th>\n",
              "      <td>000xQL6tZNLJzIrtIgxqSl</td>\n",
              "      <td>ZAYN, PARTYNEXTDOOR</td>\n",
              "      <td>Still Got Time (feat. PARTYNEXTDOOR)</td>\n",
              "      <td>RCA Records Label</td>\n",
              "      <td>G</td>\n",
              "      <td>Major</td>\n",
              "      <td>4 beats</td>\n",
              "      <td>0.748</td>\n",
              "      <td>0.627</td>\n",
              "      <td>0.0639</td>\n",
              "      <td>0.13100</td>\n",
              "      <td>0.0</td>\n",
              "      <td>0.0852</td>\n",
              "      <td>0.524</td>\n",
              "      <td>-6.029</td>\n",
              "      <td>120.963</td>\n",
              "      <td>188491</td>\n",
              "      <td>17</td>\n",
              "      <td>107527761</td>\n",
              "    </tr>\n",
              "    <tr>\n",
              "      <th>1</th>\n",
              "      <td>003eoIwxETJujVWmNFMoZy</td>\n",
              "      <td>Alessia Cara</td>\n",
              "      <td>Growing Pains</td>\n",
              "      <td>Def Jam Recordings</td>\n",
              "      <td>C#/Db</td>\n",
              "      <td>Minor</td>\n",
              "      <td>4 beats</td>\n",
              "      <td>0.353</td>\n",
              "      <td>0.755</td>\n",
              "      <td>0.7330</td>\n",
              "      <td>0.08220</td>\n",
              "      <td>0.0</td>\n",
              "      <td>0.3900</td>\n",
              "      <td>0.437</td>\n",
              "      <td>-6.276</td>\n",
              "      <td>191.153</td>\n",
              "      <td>193680</td>\n",
              "      <td>2</td>\n",
              "      <td>9944865</td>\n",
              "    </tr>\n",
              "    <tr>\n",
              "      <th>2</th>\n",
              "      <td>003vvx7Niy0yvhvHt4a68B</td>\n",
              "      <td>The Killers</td>\n",
              "      <td>Mr. Brightside</td>\n",
              "      <td>Island Records</td>\n",
              "      <td>C#/Db</td>\n",
              "      <td>Major</td>\n",
              "      <td>4 beats</td>\n",
              "      <td>0.352</td>\n",
              "      <td>0.911</td>\n",
              "      <td>0.0747</td>\n",
              "      <td>0.00121</td>\n",
              "      <td>0.0</td>\n",
              "      <td>0.0995</td>\n",
              "      <td>0.236</td>\n",
              "      <td>-5.230</td>\n",
              "      <td>148.033</td>\n",
              "      <td>222973</td>\n",
              "      <td>125</td>\n",
              "      <td>512388123</td>\n",
              "    </tr>\n",
              "    <tr>\n",
              "      <th>3</th>\n",
              "      <td>00B7TZ0Xawar6NZ00JFomN</td>\n",
              "      <td>Cardi B, Chance the Rapper</td>\n",
              "      <td>Best Life (feat. Chance The Rapper)</td>\n",
              "      <td>Atlantic/KSR</td>\n",
              "      <td>A</td>\n",
              "      <td>Major</td>\n",
              "      <td>4 beats</td>\n",
              "      <td>0.620</td>\n",
              "      <td>0.625</td>\n",
              "      <td>0.5530</td>\n",
              "      <td>0.28700</td>\n",
              "      <td>0.0</td>\n",
              "      <td>0.3140</td>\n",
              "      <td>0.665</td>\n",
              "      <td>-7.438</td>\n",
              "      <td>167.911</td>\n",
              "      <td>284856</td>\n",
              "      <td>2</td>\n",
              "      <td>11985346</td>\n",
              "    </tr>\n",
              "    <tr>\n",
              "      <th>4</th>\n",
              "      <td>00Blm7zeNqgYLPtW6zg8cj</td>\n",
              "      <td>Post Malone, The Weeknd</td>\n",
              "      <td>One Right Now (with The Weeknd)</td>\n",
              "      <td>Republic Records</td>\n",
              "      <td>C#/Db</td>\n",
              "      <td>Major</td>\n",
              "      <td>4 beats</td>\n",
              "      <td>0.687</td>\n",
              "      <td>0.781</td>\n",
              "      <td>0.0530</td>\n",
              "      <td>0.03610</td>\n",
              "      <td>0.0</td>\n",
              "      <td>0.0755</td>\n",
              "      <td>0.688</td>\n",
              "      <td>-4.806</td>\n",
              "      <td>97.014</td>\n",
              "      <td>193507</td>\n",
              "      <td>30</td>\n",
              "      <td>301860377</td>\n",
              "    </tr>\n",
              "  </tbody>\n",
              "</table>\n",
              "</div>\n",
              "    <div class=\"colab-df-buttons\">\n",
              "\n",
              "  <div class=\"colab-df-container\">\n",
              "    <button class=\"colab-df-convert\" onclick=\"convertToInteractive('df-ff3c4f6e-b3fa-4e17-a99c-7ba3bf62fb62')\"\n",
              "            title=\"Convert this dataframe to an interactive table.\"\n",
              "            style=\"display:none;\">\n",
              "\n",
              "  <svg xmlns=\"http://www.w3.org/2000/svg\" height=\"24px\" viewBox=\"0 -960 960 960\">\n",
              "    <path d=\"M120-120v-720h720v720H120Zm60-500h600v-160H180v160Zm220 220h160v-160H400v160Zm0 220h160v-160H400v160ZM180-400h160v-160H180v160Zm440 0h160v-160H620v160ZM180-180h160v-160H180v160Zm440 0h160v-160H620v160Z\"/>\n",
              "  </svg>\n",
              "    </button>\n",
              "\n",
              "  <style>\n",
              "    .colab-df-container {\n",
              "      display:flex;\n",
              "      gap: 12px;\n",
              "    }\n",
              "\n",
              "    .colab-df-convert {\n",
              "      background-color: #E8F0FE;\n",
              "      border: none;\n",
              "      border-radius: 50%;\n",
              "      cursor: pointer;\n",
              "      display: none;\n",
              "      fill: #1967D2;\n",
              "      height: 32px;\n",
              "      padding: 0 0 0 0;\n",
              "      width: 32px;\n",
              "    }\n",
              "\n",
              "    .colab-df-convert:hover {\n",
              "      background-color: #E2EBFA;\n",
              "      box-shadow: 0px 1px 2px rgba(60, 64, 67, 0.3), 0px 1px 3px 1px rgba(60, 64, 67, 0.15);\n",
              "      fill: #174EA6;\n",
              "    }\n",
              "\n",
              "    .colab-df-buttons div {\n",
              "      margin-bottom: 4px;\n",
              "    }\n",
              "\n",
              "    [theme=dark] .colab-df-convert {\n",
              "      background-color: #3B4455;\n",
              "      fill: #D2E3FC;\n",
              "    }\n",
              "\n",
              "    [theme=dark] .colab-df-convert:hover {\n",
              "      background-color: #434B5C;\n",
              "      box-shadow: 0px 1px 3px 1px rgba(0, 0, 0, 0.15);\n",
              "      filter: drop-shadow(0px 1px 2px rgba(0, 0, 0, 0.3));\n",
              "      fill: #FFFFFF;\n",
              "    }\n",
              "  </style>\n",
              "\n",
              "    <script>\n",
              "      const buttonEl =\n",
              "        document.querySelector('#df-ff3c4f6e-b3fa-4e17-a99c-7ba3bf62fb62 button.colab-df-convert');\n",
              "      buttonEl.style.display =\n",
              "        google.colab.kernel.accessAllowed ? 'block' : 'none';\n",
              "\n",
              "      async function convertToInteractive(key) {\n",
              "        const element = document.querySelector('#df-ff3c4f6e-b3fa-4e17-a99c-7ba3bf62fb62');\n",
              "        const dataTable =\n",
              "          await google.colab.kernel.invokeFunction('convertToInteractive',\n",
              "                                                    [key], {});\n",
              "        if (!dataTable) return;\n",
              "\n",
              "        const docLinkHtml = 'Like what you see? Visit the ' +\n",
              "          '<a target=\"_blank\" href=https://colab.research.google.com/notebooks/data_table.ipynb>data table notebook</a>'\n",
              "          + ' to learn more about interactive tables.';\n",
              "        element.innerHTML = '';\n",
              "        dataTable['output_type'] = 'display_data';\n",
              "        await google.colab.output.renderOutput(dataTable, element);\n",
              "        const docLink = document.createElement('div');\n",
              "        docLink.innerHTML = docLinkHtml;\n",
              "        element.appendChild(docLink);\n",
              "      }\n",
              "    </script>\n",
              "  </div>\n",
              "\n",
              "\n",
              "<div id=\"df-05a131bb-4e5f-4161-861e-6bcf8e387745\">\n",
              "  <button class=\"colab-df-quickchart\" onclick=\"quickchart('df-05a131bb-4e5f-4161-861e-6bcf8e387745')\"\n",
              "            title=\"Suggest charts\"\n",
              "            style=\"display:none;\">\n",
              "\n",
              "<svg xmlns=\"http://www.w3.org/2000/svg\" height=\"24px\"viewBox=\"0 0 24 24\"\n",
              "     width=\"24px\">\n",
              "    <g>\n",
              "        <path d=\"M19 3H5c-1.1 0-2 .9-2 2v14c0 1.1.9 2 2 2h14c1.1 0 2-.9 2-2V5c0-1.1-.9-2-2-2zM9 17H7v-7h2v7zm4 0h-2V7h2v10zm4 0h-2v-4h2v4z\"/>\n",
              "    </g>\n",
              "</svg>\n",
              "  </button>\n",
              "\n",
              "<style>\n",
              "  .colab-df-quickchart {\n",
              "      --bg-color: #E8F0FE;\n",
              "      --fill-color: #1967D2;\n",
              "      --hover-bg-color: #E2EBFA;\n",
              "      --hover-fill-color: #174EA6;\n",
              "      --disabled-fill-color: #AAA;\n",
              "      --disabled-bg-color: #DDD;\n",
              "  }\n",
              "\n",
              "  [theme=dark] .colab-df-quickchart {\n",
              "      --bg-color: #3B4455;\n",
              "      --fill-color: #D2E3FC;\n",
              "      --hover-bg-color: #434B5C;\n",
              "      --hover-fill-color: #FFFFFF;\n",
              "      --disabled-bg-color: #3B4455;\n",
              "      --disabled-fill-color: #666;\n",
              "  }\n",
              "\n",
              "  .colab-df-quickchart {\n",
              "    background-color: var(--bg-color);\n",
              "    border: none;\n",
              "    border-radius: 50%;\n",
              "    cursor: pointer;\n",
              "    display: none;\n",
              "    fill: var(--fill-color);\n",
              "    height: 32px;\n",
              "    padding: 0;\n",
              "    width: 32px;\n",
              "  }\n",
              "\n",
              "  .colab-df-quickchart:hover {\n",
              "    background-color: var(--hover-bg-color);\n",
              "    box-shadow: 0 1px 2px rgba(60, 64, 67, 0.3), 0 1px 3px 1px rgba(60, 64, 67, 0.15);\n",
              "    fill: var(--button-hover-fill-color);\n",
              "  }\n",
              "\n",
              "  .colab-df-quickchart-complete:disabled,\n",
              "  .colab-df-quickchart-complete:disabled:hover {\n",
              "    background-color: var(--disabled-bg-color);\n",
              "    fill: var(--disabled-fill-color);\n",
              "    box-shadow: none;\n",
              "  }\n",
              "\n",
              "  .colab-df-spinner {\n",
              "    border: 2px solid var(--fill-color);\n",
              "    border-color: transparent;\n",
              "    border-bottom-color: var(--fill-color);\n",
              "    animation:\n",
              "      spin 1s steps(1) infinite;\n",
              "  }\n",
              "\n",
              "  @keyframes spin {\n",
              "    0% {\n",
              "      border-color: transparent;\n",
              "      border-bottom-color: var(--fill-color);\n",
              "      border-left-color: var(--fill-color);\n",
              "    }\n",
              "    20% {\n",
              "      border-color: transparent;\n",
              "      border-left-color: var(--fill-color);\n",
              "      border-top-color: var(--fill-color);\n",
              "    }\n",
              "    30% {\n",
              "      border-color: transparent;\n",
              "      border-left-color: var(--fill-color);\n",
              "      border-top-color: var(--fill-color);\n",
              "      border-right-color: var(--fill-color);\n",
              "    }\n",
              "    40% {\n",
              "      border-color: transparent;\n",
              "      border-right-color: var(--fill-color);\n",
              "      border-top-color: var(--fill-color);\n",
              "    }\n",
              "    60% {\n",
              "      border-color: transparent;\n",
              "      border-right-color: var(--fill-color);\n",
              "    }\n",
              "    80% {\n",
              "      border-color: transparent;\n",
              "      border-right-color: var(--fill-color);\n",
              "      border-bottom-color: var(--fill-color);\n",
              "    }\n",
              "    90% {\n",
              "      border-color: transparent;\n",
              "      border-bottom-color: var(--fill-color);\n",
              "    }\n",
              "  }\n",
              "</style>\n",
              "\n",
              "  <script>\n",
              "    async function quickchart(key) {\n",
              "      const quickchartButtonEl =\n",
              "        document.querySelector('#' + key + ' button');\n",
              "      quickchartButtonEl.disabled = true;  // To prevent multiple clicks.\n",
              "      quickchartButtonEl.classList.add('colab-df-spinner');\n",
              "      try {\n",
              "        const charts = await google.colab.kernel.invokeFunction(\n",
              "            'suggestCharts', [key], {});\n",
              "      } catch (error) {\n",
              "        console.error('Error during call to suggestCharts:', error);\n",
              "      }\n",
              "      quickchartButtonEl.classList.remove('colab-df-spinner');\n",
              "      quickchartButtonEl.classList.add('colab-df-quickchart-complete');\n",
              "    }\n",
              "    (() => {\n",
              "      let quickchartButtonEl =\n",
              "        document.querySelector('#df-05a131bb-4e5f-4161-861e-6bcf8e387745 button');\n",
              "      quickchartButtonEl.style.display =\n",
              "        google.colab.kernel.accessAllowed ? 'block' : 'none';\n",
              "    })();\n",
              "  </script>\n",
              "</div>\n",
              "\n",
              "    </div>\n",
              "  </div>\n"
            ],
            "application/vnd.google.colaboratory.intrinsic+json": {
              "type": "dataframe",
              "variable_name": "df",
              "summary": "{\n  \"name\": \"df\",\n  \"rows\": 6513,\n  \"fields\": [\n    {\n      \"column\": \"id\",\n      \"properties\": {\n        \"dtype\": \"string\",\n        \"num_unique_values\": 6513,\n        \"samples\": [\n          \"6wos8Ds5FKMe33GjBHRake\",\n          \"1d7q712nXjG98HiwHk7HFS\",\n          \"1Qg9jWGDkKAGZXj5v2OG59\"\n        ],\n        \"semantic_type\": \"\",\n        \"description\": \"\"\n      }\n    },\n    {\n      \"column\": \"artist_names\",\n      \"properties\": {\n        \"dtype\": \"category\",\n        \"num_unique_values\": 3001,\n        \"samples\": [\n          \"Louis Tomlinson\",\n          \"Migos, Travis Scott, Ty Dolla $ign, Big Sean\",\n          \"Nick Jonas, Anne-Marie, Mike Posner\"\n        ],\n        \"semantic_type\": \"\",\n        \"description\": \"\"\n      }\n    },\n    {\n      \"column\": \"track_name\",\n      \"properties\": {\n        \"dtype\": \"string\",\n        \"num_unique_values\": 5351,\n        \"samples\": [\n          \"A Sweeter Place (feat. Kid Cudi)\",\n          \"Bodak Yellow\",\n          \"Instagram\"\n        ],\n        \"semantic_type\": \"\",\n        \"description\": \"\"\n      }\n    },\n    {\n      \"column\": \"source\",\n      \"properties\": {\n        \"dtype\": \"category\",\n        \"num_unique_values\": 967,\n        \"samples\": [\n          \"Rich The Kid / (TDE/ISR PS)\",\n          \"Riot Games\",\n          \"Roc Nation Records LLC\"\n        ],\n        \"semantic_type\": \"\",\n        \"description\": \"\"\n      }\n    },\n    {\n      \"column\": \"key\",\n      \"properties\": {\n        \"dtype\": \"category\",\n        \"num_unique_values\": 12,\n        \"samples\": [\n          \"F#/Gb\",\n          \"D\",\n          \"G\"\n        ],\n        \"semantic_type\": \"\",\n        \"description\": \"\"\n      }\n    },\n    {\n      \"column\": \"mode\",\n      \"properties\": {\n        \"dtype\": \"category\",\n        \"num_unique_values\": 2,\n        \"samples\": [\n          \"Minor\",\n          \"Major\"\n        ],\n        \"semantic_type\": \"\",\n        \"description\": \"\"\n      }\n    },\n    {\n      \"column\": \"time_signature\",\n      \"properties\": {\n        \"dtype\": \"category\",\n        \"num_unique_values\": 4,\n        \"samples\": [\n          \"5 beats\",\n          \"1\"\n        ],\n        \"semantic_type\": \"\",\n        \"description\": \"\"\n      }\n    },\n    {\n      \"column\": \"danceability\",\n      \"properties\": {\n        \"dtype\": \"number\",\n        \"std\": 0.14178728706021038,\n        \"min\": 0.15,\n        \"max\": 0.985,\n        \"num_unique_values\": 686,\n        \"samples\": [\n          0.618,\n          0.418\n        ],\n        \"semantic_type\": \"\",\n        \"description\": \"\"\n      }\n    },\n    {\n      \"column\": \"energy\",\n      \"properties\": {\n        \"dtype\": \"number\",\n        \"std\": 0.16481253789387157,\n        \"min\": 0.0218,\n        \"max\": 0.989,\n        \"num_unique_values\": 805,\n        \"samples\": [\n          0.331,\n          0.941\n        ],\n        \"semantic_type\": \"\",\n        \"description\": \"\"\n      }\n    },\n    {\n      \"column\": \"speechiness\",\n      \"properties\": {\n        \"dtype\": \"number\",\n        \"std\": 0.11344145982615261,\n        \"min\": 0.0232,\n        \"max\": 0.966,\n        \"num_unique_values\": 1146,\n        \"samples\": [\n          0.0496,\n          0.0968\n        ],\n        \"semantic_type\": \"\",\n        \"description\": \"\"\n      }\n    },\n    {\n      \"column\": \"acousticness\",\n      \"properties\": {\n        \"dtype\": \"number\",\n        \"std\": 0.24478439325954882,\n        \"min\": 7.53e-06,\n        \"max\": 0.994,\n        \"num_unique_values\": 2020,\n        \"samples\": [\n          0.227,\n          0.0199\n        ],\n        \"semantic_type\": \"\",\n        \"description\": \"\"\n      }\n    },\n    {\n      \"column\": \"instrumentalness\",\n      \"properties\": {\n        \"dtype\": \"number\",\n        \"std\": 0.07515096868580762,\n        \"min\": 0.0,\n        \"max\": 0.953,\n        \"num_unique_values\": 1833,\n        \"samples\": [\n          0.000227,\n          0.00919\n        ],\n        \"semantic_type\": \"\",\n        \"description\": \"\"\n      }\n    },\n    {\n      \"column\": \"liveness\",\n      \"properties\": {\n        \"dtype\": \"number\",\n        \"std\": 0.13805435290099122,\n        \"min\": 0.0197,\n        \"max\": 0.977,\n        \"num_unique_values\": 1071,\n        \"samples\": [\n          0.094,\n          0.0578\n        ],\n        \"semantic_type\": \"\",\n        \"description\": \"\"\n      }\n    },\n    {\n      \"column\": \"valence\",\n      \"properties\": {\n        \"dtype\": \"number\",\n        \"std\": 0.22700059158361843,\n        \"min\": 0.032,\n        \"max\": 0.982,\n        \"num_unique_values\": 1013,\n        \"samples\": [\n          0.0807,\n          0.624\n        ],\n        \"semantic_type\": \"\",\n        \"description\": \"\"\n      }\n    },\n    {\n      \"column\": \"loudness\",\n      \"properties\": {\n        \"dtype\": \"number\",\n        \"std\": 2.5361143627130853,\n        \"min\": -34.475,\n        \"max\": 1.509,\n        \"num_unique_values\": 4255,\n        \"samples\": [\n          -3.547,\n          -7.415\n        ],\n        \"semantic_type\": \"\",\n        \"description\": \"\"\n      }\n    },\n    {\n      \"column\": \"tempo\",\n      \"properties\": {\n        \"dtype\": \"number\",\n        \"std\": 29.416096740706173,\n        \"min\": 46.718,\n        \"max\": 212.117,\n        \"num_unique_values\": 5353,\n        \"samples\": [\n          113.669,\n          105.137\n        ],\n        \"semantic_type\": \"\",\n        \"description\": \"\"\n      }\n    },\n    {\n      \"column\": \"duration_ms\",\n      \"properties\": {\n        \"dtype\": \"number\",\n        \"std\": 49199,\n        \"min\": 30133,\n        \"max\": 690732,\n        \"num_unique_values\": 5460,\n        \"samples\": [\n          236160,\n          227467\n        ],\n        \"semantic_type\": \"\",\n        \"description\": \"\"\n      }\n    },\n    {\n      \"column\": \"weeks_on_chart\",\n      \"properties\": {\n        \"dtype\": \"number\",\n        \"std\": 24,\n        \"min\": 1,\n        \"max\": 367,\n        \"num_unique_values\": 159,\n        \"samples\": [\n          367,\n          217\n        ],\n        \"semantic_type\": \"\",\n        \"description\": \"\"\n      }\n    },\n    {\n      \"column\": \"streams\",\n      \"properties\": {\n        \"dtype\": \"number\",\n        \"std\": 227669470,\n        \"min\": 2525159,\n        \"max\": 3528450184,\n        \"num_unique_values\": 6513,\n        \"samples\": [\n          3812830,\n          15967986\n        ],\n        \"semantic_type\": \"\",\n        \"description\": \"\"\n      }\n    }\n  ]\n}"
            }
          },
          "metadata": {},
          "execution_count": 10
        }
      ]
    },
    {
      "cell_type": "code",
      "source": [
        "df[\"danceability\"].plot(kind=\"hist\")\n",
        "plt.xlabel(\"danceability\")\n",
        "plt.title(\"Frequancy of Danceability in top Spotify Songs\")\n",
        "plt.figtext(0,0,\"how suitable a track is for dancing based on a combination of musical elements including tempo,\")"
      ],
      "metadata": {
        "colab": {
          "base_uri": "https://localhost:8080/",
          "height": 193
        },
        "id": "6AiCFGYPXZnL",
        "outputId": "2ccd4b09-01a8-4074-e040-e8f0e81f5eef"
      },
      "execution_count": null,
      "outputs": [
        {
          "output_type": "error",
          "ename": "NameError",
          "evalue": "name 'df' is not defined",
          "traceback": [
            "\u001b[0;31m---------------------------------------------------------------------------\u001b[0m",
            "\u001b[0;31mNameError\u001b[0m                                 Traceback (most recent call last)",
            "\u001b[0;32m<ipython-input-2-ade8cc43ed89>\u001b[0m in \u001b[0;36m<cell line: 1>\u001b[0;34m()\u001b[0m\n\u001b[0;32m----> 1\u001b[0;31m \u001b[0mdf\u001b[0m\u001b[0;34m[\u001b[0m\u001b[0;34m\"danceability\"\u001b[0m\u001b[0;34m]\u001b[0m\u001b[0;34m.\u001b[0m\u001b[0mplot\u001b[0m\u001b[0;34m(\u001b[0m\u001b[0mkind\u001b[0m\u001b[0;34m=\u001b[0m\u001b[0;34m\"hist\"\u001b[0m\u001b[0;34m)\u001b[0m\u001b[0;34m\u001b[0m\u001b[0;34m\u001b[0m\u001b[0m\n\u001b[0m\u001b[1;32m      2\u001b[0m \u001b[0mplt\u001b[0m\u001b[0;34m.\u001b[0m\u001b[0mxlabel\u001b[0m\u001b[0;34m(\u001b[0m\u001b[0;34m\"danceability\"\u001b[0m\u001b[0;34m)\u001b[0m\u001b[0;34m\u001b[0m\u001b[0;34m\u001b[0m\u001b[0m\n\u001b[1;32m      3\u001b[0m \u001b[0mplt\u001b[0m\u001b[0;34m.\u001b[0m\u001b[0mtitle\u001b[0m\u001b[0;34m(\u001b[0m\u001b[0;34m\"Frequancy of Danceability in top Spotify Songs\"\u001b[0m\u001b[0;34m)\u001b[0m\u001b[0;34m\u001b[0m\u001b[0;34m\u001b[0m\u001b[0m\n\u001b[1;32m      4\u001b[0m \u001b[0mplt\u001b[0m\u001b[0;34m.\u001b[0m\u001b[0mfigtext\u001b[0m\u001b[0;34m(\u001b[0m\u001b[0;36m0\u001b[0m\u001b[0;34m,\u001b[0m\u001b[0;36m0\u001b[0m\u001b[0;34m,\u001b[0m\u001b[0;34m\"how suitable a track is for dancing based on a combination of musical elements including tempo,\"\u001b[0m\u001b[0;34m)\u001b[0m\u001b[0;34m\u001b[0m\u001b[0;34m\u001b[0m\u001b[0m\n",
            "\u001b[0;31mNameError\u001b[0m: name 'df' is not defined"
          ]
        }
      ]
    },
    {
      "cell_type": "code",
      "source": [
        "plt.hist(df[\"danceability\"],edgecolor=\"black\")\n",
        "plt.xlabel(\"danceability\")\n",
        "plt.title(\"Frequancy of Danceability in top Spotify Songs\")"
      ],
      "metadata": {
        "colab": {
          "base_uri": "https://localhost:8080/",
          "height": 489
        },
        "id": "76l6LW7cbcxr",
        "outputId": "24f1434a-767c-4256-cf17-9d21c03e6b3a"
      },
      "execution_count": null,
      "outputs": [
        {
          "output_type": "execute_result",
          "data": {
            "text/plain": [
              "Text(0.5, 1.0, 'frequancy of danceability in top Spotify songs')"
            ]
          },
          "metadata": {},
          "execution_count": 30
        },
        {
          "output_type": "display_data",
          "data": {
            "text/plain": [
              "<Figure size 640x480 with 1 Axes>"
            ],
            "image/png": "[encoded data removed]"
          },
          "metadata": {}
        }
      ]
    },
    {
      "cell_type": "code",
      "source": [
        "sns.histplot(data=df,x=\"danceability\")\n",
        "plt.xlabel(\"danceability\")\n",
        "plt.title(\"Frequancy of Danceability in top Spotify Songs\")"
      ],
      "metadata": {
        "colab": {
          "base_uri": "https://localhost:8080/",
          "height": 489
        },
        "id": "RMdhaMOWcIUd",
        "outputId": "0430bf8c-9cb3-422d-afb2-1ead9d5be178"
      },
      "execution_count": null,
      "outputs": [
        {
          "output_type": "execute_result",
          "data": {
            "text/plain": [
              "Text(0.5, 1.0, 'frequancy of danceability in top Spotify songs')"
            ]
          },
          "metadata": {},
          "execution_count": 31
        },
        {
          "output_type": "display_data",
          "data": {
            "text/plain": [
              "<Figure size 640x480 with 1 Axes>"
            ],
            "image/png": "[encoded data removed]"
          },
          "metadata": {}
        }
      ]
    },
    {
      "cell_type": "markdown",
      "source": [
        "We can see that tracks with a danceability of around 0.7 are the sweet spot to get a top song on spotify. Over 0.8 gets a little too dancey for people and below 0.6 seems to be not dancey enough."
      ],
      "metadata": {
        "id": "ivLMRCyCfqpD"
      }
    },
    {
      "cell_type": "code",
      "source": [],
      "metadata": {
        "id": "hgi_nneqNOtw"
      },
      "execution_count": null,
      "outputs": []
    }
  ]
}